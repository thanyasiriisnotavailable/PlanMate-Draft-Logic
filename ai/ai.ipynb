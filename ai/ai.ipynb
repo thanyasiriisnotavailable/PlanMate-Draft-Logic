{
 "cells": [
  {
   "cell_type": "code",
   "execution_count": 45,
   "id": "1f808514",
   "metadata": {},
   "outputs": [],
   "source": [
    "import availability_parser\n",
    "import session_generator\n",
    "import review_scheduler\n",
    "from input import user_preferences, availability, courses, assignments"
   ]
  },
  {
   "cell_type": "code",
   "execution_count": 46,
   "id": "064d16b3",
   "metadata": {},
   "outputs": [
    {
     "name": "stdout",
     "output_type": "stream",
     "text": [
      "📚 Study Sessions for Courses:\n",
      "\n",
      "📘 Course: Operating Systems\n",
      "  • CPU Scheduling → Total Adjusted: 100 min → Sessions: 30 min, 50 min, 50 min, 30 min\n",
      "  • Deadlocks → Total Adjusted: 80 min → Sessions: 30 min, 80 min, 30 min\n",
      "  • Virtual Memory → Total Adjusted: 160 min → Sessions: 40 min, 80 min, 80 min, 50 min\n",
      "\n",
      "📘 Course: Data Structures and Algorithms\n",
      "  • Trees & Graphs → Total Adjusted: 90 min → Sessions: 30 min, 90 min, 30 min\n",
      "  • Sorting Algorithms → Total Adjusted: 40 min → Sessions: 30 min, 40 min, 30 min\n",
      "  • Dynamic Programming → Total Adjusted: 140 min → Sessions: 30 min, 70 min, 70 min, 50 min\n",
      "\n",
      "📘 Course: Machine Learning\n",
      "  • Regression Models → Total Adjusted: 70 min → Sessions: 30 min, 70 min, 30 min\n",
      "  • Classification → Total Adjusted: 110 min → Sessions: 30 min, 60 min, 60 min, 40 min\n",
      "  • Neural Networks → Total Adjusted: 170 min → Sessions: 40 min, 90 min, 90 min, 60 min\n",
      "\n",
      "📘 Course: Database Systems\n",
      "  • SQL Joins → Total Adjusted: 30 min → Sessions: 30 min, 30 min, 30 min\n",
      "  • Normalization → Total Adjusted: 60 min → Sessions: 30 min, 60 min, 30 min\n",
      "  • Indexing & Query Optimization → Total Adjusted: 110 min → Sessions: 30 min, 60 min, 60 min, 40 min\n",
      "\n",
      "📘 Course: Computer Networks\n",
      "  • TCP/IP Model → Total Adjusted: 40 min → Sessions: 30 min, 40 min, 30 min\n",
      "  • Routing Protocols → Total Adjusted: 120 min → Sessions: 30 min, 60 min, 60 min, 40 min\n",
      "  • Congestion Control → Total Adjusted: 60 min → Sessions: 30 min, 60 min, 30 min\n",
      "\n",
      "==============================\n",
      "\n",
      "📝 Assignment Sessions:\n",
      "\n",
      "📌 Assignment: Midterm Essay (Computer Networks)\n",
      "  • Estimated Time: 50 min → Sessions: 50 min\n",
      "\n",
      "📌 Assignment: Final Project (Machine Learning)\n",
      "  • Estimated Time: 180 min → Sessions: 90 min, 90 min\n"
     ]
    }
   ],
   "source": [
    "print(\"📚 Study Sessions for Courses:\")\n",
    "for course in courses:\n",
    "    print(f\"\\n📘 Course: {course['name']}\")\n",
    "    for topic in course[\"topics\"]:\n",
    "        base_time = topic.get(\"studyTime\", 60)\n",
    "        adjusted_time = session_generator.estimate_study_time(\n",
    "            topic[\"difficulty\"],\n",
    "            topic[\"confidence\"],\n",
    "            base_time\n",
    "        )\n",
    "        sessions = session_generator.estimate_sessions(\n",
    "            adjusted_time,\n",
    "            user_preferences[\"revisionFrequency\"],\n",
    "            user_preferences[\"preferredSessionDuration\"]\n",
    "        )\n",
    "        session_info = \", \".join([f\"{int(s)} min\" for s in sessions if s > 0])\n",
    "        if session_info:\n",
    "            print(f\"  • {topic['title']} → Total Adjusted: {adjusted_time} min → Sessions: {session_info}\")\n",
    "        else:\n",
    "            print(f\"  • {topic['title']} → Total Adjusted: {adjusted_time} min → No sessions generated (check duration/logic)\")\n",
    "\n",
    "print(\"\\n\" + \"=\" * 30 + \"\\n\")\n",
    "print(\"📝 Assignment Sessions:\")\n",
    "for assignment in assignments:\n",
    "    print(f\"\\n📌 Assignment: {assignment['title']} ({assignment['course']})\")\n",
    "    estimated_time = assignment[\"estimatedTime\"]\n",
    "    sessions = session_generator.create_assignment_sessions(\n",
    "        estimated_time,\n",
    "        user_preferences[\"preferredSessionDuration\"]\n",
    "    )\n",
    "    session_info = \", \".join([f\"{int(s)} min\" for s in sessions if s > 0])\n",
    "    if session_info:\n",
    "        print(f\"  • Estimated Time: {estimated_time} min → Sessions: {session_info}\")\n",
    "    else:\n",
    "        print(f\"  • Estimated Time: {estimated_time} min → No sessions generated (check duration/logic)\")"
   ]
  },
  {
   "cell_type": "code",
   "execution_count": 47,
   "id": "8c851a7f",
   "metadata": {},
   "outputs": [
    {
     "name": "stdout",
     "output_type": "stream",
     "text": [
      "11/02/2025 | 10:00–11:30 (90 min)\n",
      "11/02/2025 | 14:00–15:30 (90 min)\n",
      "11/02/2025 | 15:45–17:00 (75 min)\n",
      "11/02/2025 | 20:00–21:30 (90 min)\n",
      "12/02/2025 | 09:00–10:30 (90 min)\n",
      "12/02/2025 | 14:00–15:30 (90 min)\n",
      "12/02/2025 | 20:00–21:30 (90 min)\n",
      "13/02/2025 | 10:00–11:30 (90 min)\n",
      "13/02/2025 | 14:00–15:30 (90 min)\n",
      "13/02/2025 | 15:45–17:00 (75 min)\n",
      "13/02/2025 | 20:00–21:30 (90 min)\n",
      "14/02/2025 | 10:00–11:30 (90 min)\n",
      "14/02/2025 | 14:00–15:30 (90 min)\n",
      "14/02/2025 | 15:45–17:15 (90 min)\n",
      "14/02/2025 | 17:30–18:00 (30 min)\n",
      "14/02/2025 | 20:00–21:30 (90 min)\n",
      "15/02/2025 | 08:00–09:30 (90 min)\n",
      "15/02/2025 | 09:45–11:00 (75 min)\n",
      "15/02/2025 | 14:00–15:30 (90 min)\n",
      "15/02/2025 | 20:00–21:30 (90 min)\n",
      "17/02/2025 | 10:00–11:30 (90 min)\n",
      "17/02/2025 | 14:00–15:30 (90 min)\n",
      "17/02/2025 | 15:45–17:00 (75 min)\n",
      "17/02/2025 | 20:00–21:30 (90 min)\n",
      "18/02/2025 | 10:00–11:30 (90 min)\n",
      "18/02/2025 | 14:00–15:30 (90 min)\n",
      "18/02/2025 | 15:45–17:00 (75 min)\n",
      "18/02/2025 | 20:00–21:30 (90 min)\n",
      "19/02/2025 | 09:00–10:30 (90 min)\n",
      "19/02/2025 | 10:45–12:00 (75 min)\n",
      "19/02/2025 | 14:00–15:30 (90 min)\n",
      "19/02/2025 | 15:45–17:00 (75 min)\n",
      "19/02/2025 | 20:00–21:30 (90 min)\n",
      "20/02/2025 | 09:00–10:30 (90 min)\n",
      "20/02/2025 | 10:45–12:00 (75 min)\n",
      "20/02/2025 | 14:00–15:30 (90 min)\n",
      "20/02/2025 | 15:45–17:00 (75 min)\n",
      "20/02/2025 | 20:00–21:30 (90 min)\n",
      "21/02/2025 | 09:00–10:30 (90 min)\n",
      "21/02/2025 | 10:45–12:00 (75 min)\n",
      "21/02/2025 | 14:00–15:30 (90 min)\n",
      "21/02/2025 | 15:45–17:00 (75 min)\n",
      "21/02/2025 | 20:00–21:30 (90 min)\n",
      "22/02/2025 | 09:00–10:30 (90 min)\n",
      "22/02/2025 | 10:45–12:00 (75 min)\n",
      "22/02/2025 | 14:00–15:30 (90 min)\n",
      "22/02/2025 | 15:45–17:00 (75 min)\n",
      "22/02/2025 | 20:00–21:30 (90 min)\n",
      "24/02/2025 | 09:00–10:30 (90 min)\n",
      "24/02/2025 | 10:45–12:00 (75 min)\n",
      "24/02/2025 | 14:00–15:30 (90 min)\n",
      "24/02/2025 | 15:45–17:00 (75 min)\n",
      "24/02/2025 | 20:00–21:30 (90 min)\n",
      "26/02/2025 | 09:00–10:30 (90 min)\n",
      "26/02/2025 | 10:45–12:00 (75 min)\n",
      "26/02/2025 | 14:00–15:30 (90 min)\n",
      "26/02/2025 | 15:45–17:00 (75 min)\n",
      "26/02/2025 | 20:00–21:30 (90 min)\n"
     ]
    }
   ],
   "source": [
    "slots = availability_parser.generate_slots(availability, user_preferences)\n",
    "for slot in slots:\n",
    "    print(f\"{slot['date']} | {slot['start']}–{slot['end']} ({slot['duration']} min)\")"
   ]
  },
  {
   "cell_type": "code",
   "execution_count": 48,
   "id": "803e3c45",
   "metadata": {},
   "outputs": [
    {
     "ename": "KeyError",
     "evalue": "'id'",
     "output_type": "error",
     "traceback": [
      "\u001b[1;31m---------------------------------------------------------------------------\u001b[0m",
      "\u001b[1;31mKeyError\u001b[0m                                  Traceback (most recent call last)",
      "Cell \u001b[1;32mIn[48], line 2\u001b[0m\n\u001b[0;32m      1\u001b[0m \u001b[38;5;66;03m# Reserve 1-day-before exam review sessions\u001b[39;00m\n\u001b[1;32m----> 2\u001b[0m review_sessions \u001b[38;5;241m=\u001b[39m review_scheduler\u001b[38;5;241m.\u001b[39mreserve_review_sessions(\n\u001b[0;32m      3\u001b[0m     courses, slots, user_preferences[\u001b[38;5;124m\"\u001b[39m\u001b[38;5;124mpreferredSessionDuration\u001b[39m\u001b[38;5;124m\"\u001b[39m]\n\u001b[0;32m      4\u001b[0m )\n\u001b[0;32m      6\u001b[0m \u001b[38;5;28mprint\u001b[39m(\u001b[38;5;124m\"\u001b[39m\u001b[38;5;130;01m\\n\u001b[39;00m\u001b[38;5;124m\"\u001b[39m \u001b[38;5;241m+\u001b[39m \u001b[38;5;124m\"\u001b[39m\u001b[38;5;124m=\u001b[39m\u001b[38;5;124m\"\u001b[39m \u001b[38;5;241m*\u001b[39m \u001b[38;5;241m30\u001b[39m \u001b[38;5;241m+\u001b[39m \u001b[38;5;124m\"\u001b[39m\u001b[38;5;130;01m\\n\u001b[39;00m\u001b[38;5;124m\"\u001b[39m)\n\u001b[0;32m      7\u001b[0m \u001b[38;5;28mprint\u001b[39m(\u001b[38;5;124m\"\u001b[39m\u001b[38;5;124m🗓️ Reserved Review Sessions:\u001b[39m\u001b[38;5;124m\"\u001b[39m)\n",
      "File \u001b[1;32md:\\smart planner\\ai\\review_scheduler.py:12\u001b[0m, in \u001b[0;36mreserve_review_sessions\u001b[1;34m(courses, slots, preferred_durations)\u001b[0m\n\u001b[0;32m      9\u001b[0m review_date \u001b[38;5;241m=\u001b[39m (exam_date \u001b[38;5;241m-\u001b[39m timedelta(days\u001b[38;5;241m=\u001b[39m\u001b[38;5;241m1\u001b[39m))\u001b[38;5;241m.\u001b[39mstrftime(\u001b[38;5;124m\"\u001b[39m\u001b[38;5;132;01m%d\u001b[39;00m\u001b[38;5;124m/\u001b[39m\u001b[38;5;124m%\u001b[39m\u001b[38;5;124mm/\u001b[39m\u001b[38;5;124m%\u001b[39m\u001b[38;5;124mY\u001b[39m\u001b[38;5;124m\"\u001b[39m)\n\u001b[0;32m     11\u001b[0m \u001b[38;5;66;03m# Try to find a slot on review_date\u001b[39;00m\n\u001b[1;32m---> 12\u001b[0m candidate_slots \u001b[38;5;241m=\u001b[39m [slot \u001b[38;5;28;01mfor\u001b[39;00m slot \u001b[38;5;129;01min\u001b[39;00m slots \u001b[38;5;28;01mif\u001b[39;00m slot[\u001b[38;5;124m\"\u001b[39m\u001b[38;5;124mdate\u001b[39m\u001b[38;5;124m\"\u001b[39m] \u001b[38;5;241m==\u001b[39m review_date \u001b[38;5;129;01mand\u001b[39;00m slot[\u001b[38;5;124m\"\u001b[39m\u001b[38;5;124mid\u001b[39m\u001b[38;5;124m\"\u001b[39m] \u001b[38;5;129;01mnot\u001b[39;00m \u001b[38;5;129;01min\u001b[39;00m used_slot_ids]\n\u001b[0;32m     14\u001b[0m \u001b[38;5;28;01mif\u001b[39;00m \u001b[38;5;129;01mnot\u001b[39;00m candidate_slots:\n\u001b[0;32m     15\u001b[0m     \u001b[38;5;28mprint\u001b[39m(\u001b[38;5;124mf\u001b[39m\u001b[38;5;124m\"\u001b[39m\u001b[38;5;124m⚠️ No available slots for review of \u001b[39m\u001b[38;5;132;01m{\u001b[39;00mcourse[\u001b[38;5;124m'\u001b[39m\u001b[38;5;124mname\u001b[39m\u001b[38;5;124m'\u001b[39m]\u001b[38;5;132;01m}\u001b[39;00m\u001b[38;5;124m on \u001b[39m\u001b[38;5;132;01m{\u001b[39;00mreview_date\u001b[38;5;132;01m}\u001b[39;00m\u001b[38;5;124m\"\u001b[39m)\n",
      "File \u001b[1;32md:\\smart planner\\ai\\review_scheduler.py:12\u001b[0m, in \u001b[0;36m<listcomp>\u001b[1;34m(.0)\u001b[0m\n\u001b[0;32m      9\u001b[0m review_date \u001b[38;5;241m=\u001b[39m (exam_date \u001b[38;5;241m-\u001b[39m timedelta(days\u001b[38;5;241m=\u001b[39m\u001b[38;5;241m1\u001b[39m))\u001b[38;5;241m.\u001b[39mstrftime(\u001b[38;5;124m\"\u001b[39m\u001b[38;5;132;01m%d\u001b[39;00m\u001b[38;5;124m/\u001b[39m\u001b[38;5;124m%\u001b[39m\u001b[38;5;124mm/\u001b[39m\u001b[38;5;124m%\u001b[39m\u001b[38;5;124mY\u001b[39m\u001b[38;5;124m\"\u001b[39m)\n\u001b[0;32m     11\u001b[0m \u001b[38;5;66;03m# Try to find a slot on review_date\u001b[39;00m\n\u001b[1;32m---> 12\u001b[0m candidate_slots \u001b[38;5;241m=\u001b[39m [slot \u001b[38;5;28;01mfor\u001b[39;00m slot \u001b[38;5;129;01min\u001b[39;00m slots \u001b[38;5;28;01mif\u001b[39;00m slot[\u001b[38;5;124m\"\u001b[39m\u001b[38;5;124mdate\u001b[39m\u001b[38;5;124m\"\u001b[39m] \u001b[38;5;241m==\u001b[39m review_date \u001b[38;5;129;01mand\u001b[39;00m slot[\u001b[38;5;124m\"\u001b[39m\u001b[38;5;124mid\u001b[39m\u001b[38;5;124m\"\u001b[39m] \u001b[38;5;129;01mnot\u001b[39;00m \u001b[38;5;129;01min\u001b[39;00m used_slot_ids]\n\u001b[0;32m     14\u001b[0m \u001b[38;5;28;01mif\u001b[39;00m \u001b[38;5;129;01mnot\u001b[39;00m candidate_slots:\n\u001b[0;32m     15\u001b[0m     \u001b[38;5;28mprint\u001b[39m(\u001b[38;5;124mf\u001b[39m\u001b[38;5;124m\"\u001b[39m\u001b[38;5;124m⚠️ No available slots for review of \u001b[39m\u001b[38;5;132;01m{\u001b[39;00mcourse[\u001b[38;5;124m'\u001b[39m\u001b[38;5;124mname\u001b[39m\u001b[38;5;124m'\u001b[39m]\u001b[38;5;132;01m}\u001b[39;00m\u001b[38;5;124m on \u001b[39m\u001b[38;5;132;01m{\u001b[39;00mreview_date\u001b[38;5;132;01m}\u001b[39;00m\u001b[38;5;124m\"\u001b[39m)\n",
      "\u001b[1;31mKeyError\u001b[0m: 'id'"
     ]
    }
   ],
   "source": [
    "# Reserve 1-day-before exam review sessions\n",
    "review_sessions = review_scheduler.reserve_review_sessions(\n",
    "    courses, slots, user_preferences[\"preferredSessionDuration\"]\n",
    ")\n",
    "\n",
    "print(\"\\n\" + \"=\" * 30 + \"\\n\")\n",
    "print(\"🗓️ Reserved Review Sessions:\")\n",
    "for review in review_sessions:\n",
    "    print(f\"{review['date']} | {review['start']}–{review['end']} → {review['title']}\")"
   ]
  }
 ],
 "metadata": {
  "kernelspec": {
   "display_name": "se_411",
   "language": "python",
   "name": "python3"
  },
  "language_info": {
   "codemirror_mode": {
    "name": "ipython",
    "version": 3
   },
   "file_extension": ".py",
   "mimetype": "text/x-python",
   "name": "python",
   "nbconvert_exporter": "python",
   "pygments_lexer": "ipython3",
   "version": "3.11.9"
  }
 },
 "nbformat": 4,
 "nbformat_minor": 5
}
