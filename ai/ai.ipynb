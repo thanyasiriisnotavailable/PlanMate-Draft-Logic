{
 "cells": [
  {
   "cell_type": "code",
   "execution_count": 23,
   "id": "1f808514",
   "metadata": {
    "ExecuteTime": {
     "end_time": "2025-06-03T18:39:07.230952Z",
     "start_time": "2025-06-03T18:39:07.223530Z"
    }
   },
   "outputs": [],
   "source": [
    "from sched import scheduler\n",
    "\n",
    "import availability_parser\n",
    "import session_generator\n",
    "import scheduler\n",
    "from input import user_preferences, availability, courses, assignments"
   ]
  },
  {
   "cell_type": "code",
   "execution_count": 24,
   "id": "3ffb3faa",
   "metadata": {
    "ExecuteTime": {
     "end_time": "2025-06-03T18:39:07.281930Z",
     "start_time": "2025-06-03T18:39:07.265303Z"
    }
   },
   "outputs": [
    {
     "name": "stdout",
     "output_type": "stream",
     "text": [
      "📚 Study Sessions for Courses:\n",
      "\n",
      "📘 Course: Operating Systems\n",
      "  • CPU Scheduling → Total Adjusted: 160 min → Sessions: 30 min, 50 min, 50 min, 30 min\n",
      "  • Deadlocks → Total Adjusted: 140 min → Sessions: 30 min, 80 min, 30 min\n",
      "  • Virtual Memory → Total Adjusted: 230 min → Sessions: 30 min, 80 min, 80 min, 40 min\n",
      "\n",
      "📘 Course: Data Structures and Algorithms\n",
      "  • Trees & Graphs → Total Adjusted: 150 min → Sessions: 30 min, 90 min, 30 min\n",
      "  • Sorting Algorithms → Total Adjusted: 100 min → Sessions: 30 min, 40 min, 30 min\n",
      "  • Dynamic Programming → Total Adjusted: 200 min → Sessions: 30 min, 70 min, 70 min, 30 min\n",
      "\n",
      "📘 Course: Machine Learning\n",
      "  • Regression Models → Total Adjusted: 130 min → Sessions: 30 min, 70 min, 30 min\n",
      "  • Classification → Total Adjusted: 180 min → Sessions: 30 min, 60 min, 60 min, 30 min\n",
      "  • Neural Networks → Total Adjusted: 250 min → Sessions: 30 min, 90 min, 90 min, 40 min\n",
      "\n",
      "📘 Course: Database Systems\n",
      "  • SQL Joins → Total Adjusted: 90 min → Sessions: 30 min, 30 min, 30 min\n",
      "  • Normalization → Total Adjusted: 120 min → Sessions: 30 min, 60 min, 30 min\n",
      "  • Indexing & Query Optimization → Total Adjusted: 180 min → Sessions: 30 min, 60 min, 60 min, 30 min\n",
      "\n",
      "📘 Course: Computer Networks\n",
      "  • TCP/IP Model → Total Adjusted: 100 min → Sessions: 30 min, 40 min, 30 min\n",
      "  • Routing Protocols → Total Adjusted: 180 min → Sessions: 30 min, 60 min, 60 min, 30 min\n",
      "  • Congestion Control → Total Adjusted: 120 min → Sessions: 30 min, 60 min, 30 min\n",
      "\n",
      "==============================\n",
      "\n",
      "📝 Assignment Sessions:\n",
      "\n",
      "📌 Assignment: Midterm Essay (Computer Networks)\n",
      "  • Estimated Time: 50 min → Sessions: 50 min\n",
      "\n",
      "📌 Assignment: Final Project (Machine Learning)\n",
      "  • Estimated Time: 180 min → Sessions: 90 min, 90 min\n"
     ]
    }
   ],
   "source": [
    "# Build session data\n",
    "study_sessions = session_generator.build_study_sessions(courses, user_preferences)\n",
    "assignment_sessions = session_generator.build_assignment_sessions(assignments, user_preferences)\n",
    "\n",
    "# Print study sessions\n",
    "print(\"📚 Study Sessions for Courses:\")\n",
    "\n",
    "# Group by course → topic → sessions\n",
    "from collections import defaultdict\n",
    "\n",
    "course_topic_sessions = defaultdict(lambda: defaultdict(list))\n",
    "for s in study_sessions:\n",
    "    course_topic_sessions[s[\"course\"]][s[\"topic\"]].append(s)\n",
    "\n",
    "for course_name, topics in course_topic_sessions.items():\n",
    "    print(f\"\\n📘 Course: {course_name}\")\n",
    "    for topic, sessions in topics.items():\n",
    "        total = sum(s[\"duration\"] for s in sessions)\n",
    "        session_info = \", \".join(f\"{s['duration']} min\" for s in sessions)\n",
    "        print(f\"  • {topic} → Total Adjusted: {total} min → Sessions: {session_info}\")\n",
    "\n",
    "# Print assignment sessions\n",
    "print(\"\\n\" + \"=\" * 30 + \"\\n\")\n",
    "print(\"📝 Assignment Sessions:\")\n",
    "\n",
    "grouped_assignments = {}\n",
    "for s in assignment_sessions:\n",
    "    key = (s[\"course\"], s[\"title\"])\n",
    "    grouped_assignments.setdefault(key, []).append(s)\n",
    "\n",
    "for (course_name, title), sessions in grouped_assignments.items():\n",
    "    total = sum(s[\"duration\"] for s in sessions)\n",
    "    session_info = \", \".join(f\"{s['duration']} min\" for s in sessions)\n",
    "    print(f\"\\n📌 Assignment: {title} ({course_name})\")\n",
    "    print(f\"  • Estimated Time: {total} min → Sessions: {session_info}\")"
   ]
  },
  {
   "cell_type": "code",
   "execution_count": 25,
   "id": "10e45a26",
   "metadata": {
    "ExecuteTime": {
     "end_time": "2025-06-03T18:39:07.348793Z",
     "start_time": "2025-06-03T18:39:07.335078Z"
    }
   },
   "outputs": [
    {
     "name": "stdout",
     "output_type": "stream",
     "text": [
      "Generated Slots:\n",
      "ID 0 | 11/02/2025 | 10:00–11:30 (90 min)\n",
      "ID 1 | 11/02/2025 | 14:00–15:30 (90 min)\n",
      "ID 2 | 11/02/2025 | 15:45–17:00 (75 min)\n",
      "ID 3 | 11/02/2025 | 20:00–21:30 (90 min)\n",
      "ID 4 | 12/02/2025 | 09:00–10:30 (90 min)\n",
      "ID 5 | 12/02/2025 | 14:00–15:30 (90 min)\n",
      "ID 6 | 12/02/2025 | 20:00–21:30 (90 min)\n",
      "ID 7 | 13/02/2025 | 10:00–11:30 (90 min)\n",
      "ID 8 | 13/02/2025 | 14:00–15:30 (90 min)\n",
      "ID 9 | 13/02/2025 | 15:45–17:00 (75 min)\n",
      "ID 10 | 13/02/2025 | 20:00–21:30 (90 min)\n",
      "ID 11 | 14/02/2025 | 10:00–11:30 (90 min)\n",
      "ID 12 | 14/02/2025 | 14:00–15:30 (90 min)\n",
      "ID 13 | 14/02/2025 | 15:45–17:15 (90 min)\n",
      "ID 14 | 14/02/2025 | 17:30–18:00 (30 min)\n",
      "ID 15 | 14/02/2025 | 20:00–21:30 (90 min)\n",
      "ID 16 | 15/02/2025 | 08:00–09:30 (90 min)\n",
      "ID 17 | 15/02/2025 | 09:45–11:00 (75 min)\n",
      "ID 18 | 15/02/2025 | 14:00–15:30 (90 min)\n",
      "ID 19 | 15/02/2025 | 20:00–21:30 (90 min)\n",
      "ID 20 | 17/02/2025 | 10:00–11:30 (90 min)\n",
      "ID 21 | 17/02/2025 | 14:00–15:30 (90 min)\n",
      "ID 22 | 17/02/2025 | 15:45–17:00 (75 min)\n",
      "ID 23 | 17/02/2025 | 20:00–21:30 (90 min)\n",
      "ID 24 | 18/02/2025 | 10:00–11:30 (90 min)\n",
      "ID 25 | 18/02/2025 | 14:00–15:30 (90 min)\n",
      "ID 26 | 18/02/2025 | 15:45–17:00 (75 min)\n",
      "ID 27 | 18/02/2025 | 20:00–21:30 (90 min)\n",
      "ID 28 | 19/02/2025 | 09:00–10:30 (90 min)\n",
      "ID 29 | 19/02/2025 | 10:45–12:00 (75 min)\n",
      "ID 30 | 19/02/2025 | 14:00–15:30 (90 min)\n",
      "ID 31 | 19/02/2025 | 15:45–17:00 (75 min)\n",
      "ID 32 | 19/02/2025 | 20:00–21:30 (90 min)\n",
      "ID 33 | 20/02/2025 | 09:00–10:30 (90 min)\n",
      "ID 34 | 20/02/2025 | 10:45–12:00 (75 min)\n",
      "ID 35 | 20/02/2025 | 14:00–15:30 (90 min)\n",
      "ID 36 | 20/02/2025 | 15:45–17:00 (75 min)\n",
      "ID 37 | 20/02/2025 | 20:00–21:30 (90 min)\n",
      "ID 38 | 21/02/2025 | 09:00–10:30 (90 min)\n",
      "ID 39 | 21/02/2025 | 10:45–12:00 (75 min)\n",
      "ID 40 | 21/02/2025 | 14:00–15:30 (90 min)\n",
      "ID 41 | 21/02/2025 | 15:45–17:00 (75 min)\n",
      "ID 42 | 21/02/2025 | 20:00–21:30 (90 min)\n",
      "ID 43 | 22/02/2025 | 09:00–10:30 (90 min)\n",
      "ID 44 | 22/02/2025 | 10:45–12:00 (75 min)\n",
      "ID 45 | 22/02/2025 | 14:00–15:30 (90 min)\n",
      "ID 46 | 22/02/2025 | 15:45–17:00 (75 min)\n",
      "ID 47 | 22/02/2025 | 20:00–21:30 (90 min)\n",
      "ID 48 | 24/02/2025 | 09:00–10:30 (90 min)\n",
      "ID 49 | 24/02/2025 | 10:45–12:00 (75 min)\n",
      "ID 50 | 24/02/2025 | 14:00–15:30 (90 min)\n",
      "ID 51 | 24/02/2025 | 15:45–17:00 (75 min)\n",
      "ID 52 | 24/02/2025 | 20:00–21:30 (90 min)\n",
      "ID 53 | 26/02/2025 | 09:00–10:30 (90 min)\n",
      "ID 54 | 26/02/2025 | 10:45–12:00 (75 min)\n",
      "ID 55 | 26/02/2025 | 14:00–15:30 (90 min)\n",
      "ID 56 | 26/02/2025 | 15:45–17:00 (75 min)\n",
      "ID 57 | 26/02/2025 | 20:00–21:30 (90 min)\n"
     ]
    }
   ],
   "source": [
    "slots = availability_parser.generate_slots(availability, user_preferences)\n",
    "print(\"Generated Slots:\")\n",
    "for slot in slots:\n",
    "    print(f\"ID {slot['id']} | {slot['date']} | {slot['start']}–{slot['end']} ({slot['duration']} min)\")"
   ]
  },
  {
   "cell_type": "code",
   "execution_count": 26,
   "id": "7ed618f0",
   "metadata": {
    "ExecuteTime": {
     "end_time": "2025-06-03T18:39:07.525284Z",
     "start_time": "2025-06-03T18:39:07.482442Z"
    }
   },
   "outputs": [
    {
     "name": "stdout",
     "output_type": "stream",
     "text": [
      "\n",
      "🗓️ Reserved Review Slots:\n",
      "📌 Operating Systems → CPU Scheduling → Review on 24/02/2025 from 09:00 to 10:30 (30 min)\n",
      "📌 Operating Systems → Deadlocks → Review on 24/02/2025 from 14:00 to 15:30 (30 min)\n",
      "📌 Operating Systems → Virtual Memory → Review on 24/02/2025 from 20:00 to 21:30 (40 min)\n",
      "📌 Data Structures and Algorithms → Trees & Graphs → Review on 21/02/2025 from 09:00 to 10:30 (30 min)\n",
      "📌 Data Structures and Algorithms → Sorting Algorithms → Review on 21/02/2025 from 14:00 to 15:30 (30 min)\n",
      "📌 Data Structures and Algorithms → Dynamic Programming → Review on 21/02/2025 from 20:00 to 21:30 (30 min)\n",
      "📌 Machine Learning → Regression Models → Review on 22/02/2025 from 09:00 to 10:30 (30 min)\n",
      "📌 Machine Learning → Classification → Review on 22/02/2025 from 14:00 to 15:30 (30 min)\n",
      "📌 Machine Learning → Neural Networks → Review on 22/02/2025 from 20:00 to 21:30 (40 min)\n",
      "📌 Database Systems → SQL Joins → Review on 26/02/2025 from 09:00 to 10:30 (30 min)\n",
      "📌 Database Systems → Normalization → Review on 26/02/2025 from 14:00 to 15:30 (30 min)\n",
      "📌 Database Systems → Indexing & Query Optimization → Review on 26/02/2025 from 20:00 to 21:30 (30 min)\n",
      "📌 Computer Networks → TCP/IP Model → Review on 24/02/2025 from 10:45 to 12:00 (30 min)\n",
      "📌 Computer Networks → Routing Protocols → Review on 24/02/2025 from 15:45 to 17:00 (30 min)\n",
      "📌 Computer Networks → Congestion Control → Review on 24/02/2025 from 09:00 to 10:30 (30 min)\n"
     ]
    }
   ],
   "source": [
    "slots = availability_parser.generate_slots(availability, user_preferences)\n",
    "slot_availability = {slot[\"id\"]: slot[\"duration\"] for slot in slots}\n",
    "reserved_reviews = scheduler.schedule_review_sessions(study_sessions, slots, slot_availability)\n",
    "\n",
    "print(\"\\n🗓️ Reserved Review Slots:\")\n",
    "if reserved_reviews:\n",
    "    for review in reserved_reviews:\n",
    "        print(f\"📌 {review['course']} → {review['topic']} → Review on {review['date']} from {review['start']} to {review['end']} ({review['duration']} min)\")\n",
    "else:\n",
    "    print(\"⚠️ No review slots were reserved.\")"
   ]
  },
  {
   "cell_type": "code",
   "execution_count": 27,
   "id": "df2ad063ea3e5656",
   "metadata": {
    "ExecuteTime": {
     "end_time": "2025-06-03T18:39:07.543544700Z",
     "start_time": "2025-06-03T18:03:33.521932Z"
    }
   },
   "outputs": [
    {
     "name": "stdout",
     "output_type": "stream",
     "text": [
      "\n",
      "📌 Study Sessions Related to Assignments:\n",
      "📚 Computer Networks → TCP/IP Model on 11/02/2025 from 10:00 to 11:30 (30 min)\n",
      "📚 Computer Networks → TCP/IP Model on 11/02/2025 from 14:00 to 15:30 (40 min)\n",
      "📚 Machine Learning → Regression Models on 11/02/2025 from 20:00 to 21:30 (30 min)\n",
      "📚 Machine Learning → Regression Models on 12/02/2025 from 09:00 to 10:30 (70 min)\n",
      "📚 Machine Learning → Classification on 12/02/2025 from 14:00 to 15:30 (30 min)\n",
      "📚 Machine Learning → Classification on 12/02/2025 from 20:00 to 21:30 (60 min)\n",
      "📚 Machine Learning → Classification on 13/02/2025 from 10:00 to 11:30 (60 min)\n",
      "📚 Machine Learning → Neural Networks on 13/02/2025 from 14:00 to 15:30 (30 min)\n",
      "📚 Machine Learning → Neural Networks on 13/02/2025 from 20:00 to 21:30 (90 min)\n",
      "📚 Machine Learning → Neural Networks on 14/02/2025 from 10:00 to 11:30 (90 min)\n"
     ]
    }
   ],
   "source": [
    "scheduled_related = scheduler.schedule_related_topic_sessions(assignments, study_sessions, slots, slot_availability)\n",
    "\n",
    "# Print what was scheduled\n",
    "print(\"\\n📌 Study Sessions Related to Assignments:\")\n",
    "if scheduled_related:\n",
    "    for s in scheduled_related:\n",
    "        print(f\"📚 {s['course']} → {s['topic']} on {s['date']} from {s['start']} to {s['end']} ({s['duration']} min)\")\n",
    "else:\n",
    "    print(\"⚠️ No related study sessions were scheduled.\")\n"
   ]
  },
  {
   "cell_type": "markdown",
   "id": "cc8b98e3",
   "metadata": {},
   "source": [
    "## Scheduling"
   ]
  },
  {
   "cell_type": "code",
   "execution_count": 28,
   "id": "488391c1",
   "metadata": {
    "ExecuteTime": {
     "end_time": "2025-06-03T18:39:07.544543200Z",
     "start_time": "2025-06-03T18:03:33.656092Z"
    }
   },
   "outputs": [
    {
     "name": "stdout",
     "output_type": "stream",
     "text": [
      "\n",
      "🗓️ Reserved Review Slots:\n",
      "📌 Operating Systems → CPU Scheduling → Review on 24/02/2025 from 09:00 to 10:30 (30 min)\n",
      "📌 Operating Systems → Deadlocks → Review on 24/02/2025 from 14:00 to 15:30 (30 min)\n",
      "📌 Operating Systems → Virtual Memory → Review on 24/02/2025 from 20:00 to 21:30 (40 min)\n",
      "📌 Data Structures and Algorithms → Trees & Graphs → Review on 21/02/2025 from 09:00 to 10:30 (30 min)\n",
      "📌 Data Structures and Algorithms → Sorting Algorithms → Review on 21/02/2025 from 14:00 to 15:30 (30 min)\n",
      "📌 Data Structures and Algorithms → Dynamic Programming → Review on 21/02/2025 from 20:00 to 21:30 (30 min)\n",
      "📌 Machine Learning → Regression Models → Review on 22/02/2025 from 09:00 to 10:30 (30 min)\n",
      "📌 Machine Learning → Classification → Review on 22/02/2025 from 14:00 to 15:30 (30 min)\n",
      "📌 Machine Learning → Neural Networks → Review on 22/02/2025 from 20:00 to 21:30 (40 min)\n",
      "📌 Database Systems → SQL Joins → Review on 26/02/2025 from 09:00 to 10:30 (30 min)\n",
      "📌 Database Systems → Normalization → Review on 26/02/2025 from 14:00 to 15:30 (30 min)\n",
      "📌 Database Systems → Indexing & Query Optimization → Review on 26/02/2025 from 20:00 to 21:30 (30 min)\n",
      "📌 Computer Networks → TCP/IP Model → Review on 24/02/2025 from 10:45 to 12:00 (30 min)\n",
      "📌 Computer Networks → Routing Protocols → Review on 24/02/2025 from 15:45 to 17:00 (30 min)\n",
      "📌 Computer Networks → Congestion Control → Review on 24/02/2025 from 09:00 to 10:30 (30 min)\n",
      "\n",
      "📌 Study Sessions Related to Assignments:\n",
      "📚 Computer Networks → TCP/IP Model on 11/02/2025 from 10:00 to 11:30 (30 min)\n",
      "📚 Computer Networks → TCP/IP Model on 11/02/2025 from 14:00 to 15:30 (40 min)\n",
      "📚 Machine Learning → Regression Models on 11/02/2025 from 20:00 to 21:30 (30 min)\n",
      "📚 Machine Learning → Regression Models on 12/02/2025 from 09:00 to 10:30 (70 min)\n",
      "📚 Machine Learning → Classification on 12/02/2025 from 14:00 to 15:30 (30 min)\n",
      "📚 Machine Learning → Classification on 12/02/2025 from 20:00 to 21:30 (60 min)\n",
      "📚 Machine Learning → Classification on 13/02/2025 from 10:00 to 11:30 (60 min)\n",
      "📚 Machine Learning → Neural Networks on 13/02/2025 from 14:00 to 15:30 (30 min)\n",
      "📚 Machine Learning → Neural Networks on 13/02/2025 from 20:00 to 21:30 (90 min)\n",
      "📚 Machine Learning → Neural Networks on 14/02/2025 from 10:00 to 11:30 (90 min)\n",
      "\n",
      "📝 Scheduled Assignment Sessions:\n",
      "📌 Computer Networks → Midterm Essay on 14/02/2025 from 14:00 to 15:30 (50 min)\n",
      "📌 Machine Learning → Final Project on 14/02/2025 from 15:45 to 17:15 (90 min)\n",
      "📌 Machine Learning → Final Project on 14/02/2025 from 20:00 to 21:30 (90 min)\n"
     ]
    }
   ],
   "source": [
    "# Build session data\n",
    "study_sessions = session_generator.build_study_sessions(courses, user_preferences)\n",
    "assignment_sessions = session_generator.build_assignment_sessions(assignments, user_preferences)\n",
    "\n",
    "# Shared state\n",
    "slots = availability_parser.generate_slots(availability, user_preferences)\n",
    "slot_availability = {slot[\"id\"]: slot[\"duration\"] for slot in slots}\n",
    "\n",
    "# STEP 1: Reserve review sessions\n",
    "reserved_reviews = scheduler.schedule_review_sessions(study_sessions, slots, slot_availability)\n",
    "\n",
    "# STEP 2: Schedule study sessions related to assignments\n",
    "scheduled_related = scheduler.schedule_related_topic_sessions(assignments, study_sessions, slots, slot_availability)\n",
    "\n",
    "# STEP 3: Schedule assignment sessions\n",
    "scheduled_assignments = scheduler.schedule_assignment_sessions(assignments, assignment_sessions, slots, slot_availability)\n",
    "\n",
    "# OUTPUTS\n",
    "\n",
    "# Reserved review sessions\n",
    "print(\"\\n🗓️ Reserved Review Slots:\")\n",
    "if reserved_reviews:\n",
    "    for review in reserved_reviews:\n",
    "        print(f\"📌 {review['course']} → {review['topic']} → Review on {review['date']} from {review['start']} to {review['end']} ({review['duration']} min)\")\n",
    "else:\n",
    "    print(\"⚠️ No review slots were reserved.\")\n",
    "\n",
    "# Study sessions linked to assignments\n",
    "print(\"\\n📌 Study Sessions Related to Assignments:\")\n",
    "if scheduled_related:\n",
    "    for s in scheduled_related:\n",
    "        print(f\"📚 {s['course']} → {s['topic']} on {s['date']} from {s['start']} to {s['end']} ({s['duration']} min)\")\n",
    "else:\n",
    "    print(\"⚠️ No related study sessions were scheduled.\")\n",
    "\n",
    "# ✅ Assignment sessions\n",
    "print(\"\\n📝 Scheduled Assignment Sessions:\")\n",
    "if scheduled_assignments:\n",
    "    for a in scheduled_assignments:\n",
    "        print(f\"📌 {a['course']} → {a['title']} on {a['date']} from {a['start']} to {a['end']} ({a['duration']} min)\")\n",
    "else:\n",
    "    print(\"⚠️ No assignment sessions were scheduled.\")\n"
   ]
  }
 ],
 "metadata": {
  "kernelspec": {
   "display_name": "se_411",
   "language": "python",
   "name": "python3"
  },
  "language_info": {
   "codemirror_mode": {
    "name": "ipython",
    "version": 3
   },
   "file_extension": ".py",
   "mimetype": "text/x-python",
   "name": "python",
   "nbconvert_exporter": "python",
   "pygments_lexer": "ipython3",
   "version": "3.11.9"
  }
 },
 "nbformat": 4,
 "nbformat_minor": 5
}
